{
 "cells": [
  {
   "cell_type": "raw",
   "id": "1d02f432",
   "metadata": {},
   "source": [
    "---\n",
    "output:\n",
    "  pdf_document: default\n",
    "  html_document: default\n",
    "---"
   ]
  },
  {
   "cell_type": "code",
   "execution_count": null,
   "id": "6db42e65",
   "metadata": {
    "name": "setup",
    "tags": [
     "remove_cell"
    ]
   },
   "outputs": [],
   "source": [
    "knitr::opts_chunk$set(echo = TRUE)"
   ]
  },
  {
   "cell_type": "markdown",
   "id": "0a1a3718",
   "metadata": {},
   "source": [
    "## Permutation Test"
   ]
  },
  {
   "cell_type": "code",
   "execution_count": null,
   "id": "8c93b2c6",
   "metadata": {
    "name": "permutation_test",
    "tags": [
     "remove_input"
    ]
   },
   "outputs": [],
   "source": [
    "set.seed(30001)\n",
    "\n",
    "#setwd(dirname(rstudioapi::getActiveDocumentContext()$path))\n",
    "\n",
    "outcome_brown <- read.csv(\"../processed_results/aggregated_measurements_black.csv\")\n",
    "outcome_rgb <- read.csv(\"../processed_results/aggregated_measurements_rgb.csv\")\n",
    "outcome_squish <- read.csv(\"../processed_results/squish.csv\")\n",
    "\n",
    "obs <- data.frame(\n",
    "  trt = rep(c(\"C\", \"A\", \"T\"), each = 12),\n",
    "  avg_rgb = outcome_rgb$avg_rgb_day_5 - outcome_rgb$avg_rgb_day_1,\n",
    "  pct_brown = outcome_brown$pct_brown_day_5 - outcome_brown$pct_brown_day_1,\n",
    "  pct_squished = outcome_squish$squish\n",
    ")\n",
    "\n",
    "obs_t <- obs[c(1:12, 25:36), ]\n",
    "obs_a <- obs[1:24, ]\n",
    "\n",
    "n_ctrl_bananas <- n_tomato_bananas <- n_apple_bananas <- 12\n",
    "n_bananas <- sum(c(n_ctrl_bananas, n_tomato_bananas, n_apple_bananas))\n",
    "# obs <- data.frame(\n",
    "#  \"banana\" = seq_len(n_bananas),\n",
    "#  \"trt\" = rep(c(\"C\", \"A\", \"T\"), each = n_bananas / 3),\n",
    "#  \"avg_rgb\" = rnorm(n_bananas),\n",
    "#  \"pct_brown\" = runif(n_bananas),\n",
    "#  \"pct_squished\" = runif(n_bananas)\n",
    "#)\n",
    "outcome_colnames <- c(\"avg_rgb\", \"pct_brown\", \"pct_squished\")\n",
    "\n",
    "n_permutations <- choose(n_bananas, n_ctrl_bananas) * \n",
    "  choose(n_bananas - n_ctrl_bananas, n_apple_bananas)\n",
    "n_test_permutations <- 20000\n",
    "\n",
    "test_data <- data.frame(\n",
    "  \"permutation\" = seq_len(n_test_permutations),\n",
    "  \"avg_rgb_tomato\" = rnorm(n_test_permutations),\n",
    "  \"avg_rgb_apple\" = rnorm(n_test_permutations),\n",
    "  \"pct_brown_tomato\" = rbeta(n_test_permutations, 1, 1),\n",
    "  \"pct_brown_apple\" = rbeta(n_test_permutations, 1, 1),\n",
    "  \"pct_squished_tomato\" = rbeta(n_test_permutations, 1, 1),\n",
    "  \"pct_squished_apple\" = rbeta(n_test_permutations, 1, 1)\n",
    ")\n",
    "\n",
    "# Josh's code of generating permutations\n",
    "assignments <- c(\n",
    "  rep(\"C\", n_ctrl_bananas), \n",
    "  rep(\"T\", n_tomato_bananas)\n",
    ")\n",
    "permutations_t <- data.frame(\n",
    "  t(mapply(function(x) sample(assignments), seq_len(n_test_permutations))),\n",
    "  row.names = NULL\n",
    ")\n",
    "colnames(permutations_t) <- paste0(\n",
    "  \"banana_\", c(seq(n_ctrl_bananas), \n",
    "               seq(n_ctrl_bananas + n_apple_bananas + 1, n_bananas))) \n",
    "\n",
    "assignments <- c(\n",
    "  rep(\"C\", n_ctrl_bananas), \n",
    "  rep(\"A\", n_apple_bananas)\n",
    ")\n",
    "permutations_a <- data.frame(\n",
    "  t(mapply(function(x) sample(assignments), seq_len(n_test_permutations))),\n",
    "  row.names = NULL\n",
    ")\n",
    "colnames(permutations_a) <- paste0(\"banana_\", seq_len(n_ctrl_bananas + n_apple_bananas)) \n",
    "\n",
    "\n",
    "# find the test statistic (difference-in-means) for all test permutations\n",
    "for (i in 1:n_test_permutations){\n",
    "  # compute the difference-in-means\n",
    "  test_stats_t <- \n",
    "    colMeans(obs_t[permutations_t[i, ]==\"T\", outcome_colnames]) - \n",
    "    colMeans(obs_t[permutations_t[i, ]==\"C\", outcome_colnames])\n",
    "  test_stats_a <- \n",
    "    colMeans(obs_a[permutations_a[i, ]==\"A\", outcome_colnames]) - \n",
    "    colMeans(obs_a[permutations_a[i, ]==\"C\", outcome_colnames])\n",
    "  \n",
    "  test_data[i, \"avg_rgb_tomato\"] <- test_stats_t[\"avg_rgb\"]\n",
    "  test_data[i, \"pct_brown_tomato\"] <- test_stats_t[\"pct_brown\"]\n",
    "  test_data[i, \"pct_squished_tomato\"] <- test_stats_t[\"pct_squished\"]\n",
    "  \n",
    "  test_data[i, \"avg_rgb_apple\"] <- test_stats_a[\"avg_rgb\"]\n",
    "  test_data[i, \"pct_brown_apple\"] <- test_stats_a[\"pct_brown\"]\n",
    "  test_data[i, \"pct_squished_apple\"] <- test_stats_a[\"pct_squished\"]\n",
    "}\n",
    "\n",
    "# these lines can be kept, but replace test_data with xinhe's final dataframe\n",
    "data_to_write1 <- cbind(test_data[,c(1,2,4,6)], permutations_t)\n",
    "#head(data_to_write1)\n",
    "write.csv(data_to_write1, \"../permutations_tomato.csv\", row.names = FALSE)\n",
    "\n",
    "data_to_write2 <- cbind(test_data[,c(1,3,5,7)], permutations_a)\n",
    "#head(data_to_write2)\n",
    "write.csv(data_to_write2, \"../permutations_apple.csv\", row.names = FALSE)\n",
    "\n",
    "\n",
    "# p-values\n",
    "# first compute the difference-in-means\n",
    "dim_stats_t <- \n",
    "  colMeans(obs[obs$trt==\"T\", outcome_colnames]) - \n",
    "  colMeans(obs[obs$trt==\"C\", outcome_colnames])\n",
    "dim_stats_a <- \n",
    "  colMeans(obs[obs$trt==\"A\", outcome_colnames]) - \n",
    "  colMeans(obs[obs$trt==\"C\", outcome_colnames])\n",
    "\n",
    "# then compute the p-values\n",
    "p1 <- sum(dim_stats_t[\"avg_rgb\"] <= test_data$avg_rgb_tomato) / n_test_permutations\n",
    "p2 <- sum(dim_stats_a[\"avg_rgb\"] <= test_data$avg_rgb_apple) / n_test_permutations\n",
    "\n",
    "p3 <- sum(dim_stats_t[\"pct_brown\"] <= test_data$pct_brown_tomato) / n_test_permutations\n",
    "p4 <- sum(dim_stats_a[\"pct_brown\"] <= test_data$pct_brown_apple) / n_test_permutations\n",
    "\n",
    "p5 <- sum(dim_stats_t[\"pct_squished\"] <= test_data$pct_squished_tomato) / n_test_permutations\n",
    "p6 <- sum(dim_stats_a[\"pct_squished\"] <= test_data$pct_squished_apple) / n_test_permutations\n",
    "\n",
    "p.values <- data.frame(\"Average R\" = c(p1, p2),\n",
    "                       \"Brown Percentage\" = c(p3, p4),\n",
    "                       \"Squish Ratro\" = c(p5, p6))\n",
    "rownames(p.values) <- c(\"tomato\", \"apple\")\n",
    "#write.csv(p.values, \"p-values.csv\")"
   ]
  },
  {
   "cell_type": "markdown",
   "id": "a0c445c9",
   "metadata": {},
   "source": [
    "Justified by the random allocation of bananas, we performed permutation tests for each of our treatment conditions. \n",
    "\n",
    "First, we tested if tomatoes accelerate the ripening process of bananas with the following competing hypotheses:\n",
    "$$ H_0:\\ \\text{Tomatoes do not accelerate the ripening process of bananas} $$\n",
    "verses\n",
    "$$ H_a:\\ \\text{Tomatoes accelerate the ripening process of bananas.} $$\n",
    "\n",
    "For this test, we only used the data of tomato and control groups, randomly permuted the treatment labels for 20,000 times, and used the difference-in-means of tomato verses control as our test statistic. More specifically, we computed the contrast between the mean outcomes under each treatment label for each permutation. Then we compare the observed difference-in-means with the permuted distribution and find out if our observations are unusual under the null hypothesis.\n",
    "\n",
    "The following plot visualizes the number of times of every banana being labeled control or tomato among the 20,000 permutations. It shows that for each banana, in around half of the permutations they were labeled control and in the other half they were labeled tomato. Thus, the permutation test is solid with respect to the random allocation of treatment labels.\n",
    "\n",
    "![](../plots/plot3a.png){width=50%}\n"
   ]
  },
  {
   "cell_type": "markdown",
   "id": "20f22d01",
   "metadata": {},
   "source": [
    "The story is similar with testing the effect of apples. The competing hypotheses we are interested in are\n",
    "$$ H_0:\\ \\text{Apples do not accelerate the ripening process of bananas} $$\n",
    "verses\n",
    "$$ H_a:\\ \\text{Apples accelerate the ripening process of bananas.} $$\n",
    "\n",
    "We only used the data of apple and control groups. We permuted the treatment labels for 20,000 times and for each permutation, computed the difference-in-means of apple verses control as the test-statistic. The following plot shows that our permutation test has done a good job of randomly assigning the labels and thus is solid. \n",
    "\n",
    "![](../plots/plot3b.png){width=50%}"
   ]
  },
  {
   "cell_type": "markdown",
   "id": "3abfbfe0",
   "metadata": {
    "lines_to_next_cell": 0
   },
   "source": [
    "The computed $p$-values are shown in the following table, which we will explain in more detail in the next section."
   ]
  },
  {
   "cell_type": "code",
   "execution_count": null,
   "id": "8bf8343d",
   "metadata": {
    "name": "pvalues",
    "tags": [
     "remove_input"
    ]
   },
   "outputs": [],
   "source": [
    "library(knitr)\n",
    "kable(p.values)"
   ]
  }
 ],
 "metadata": {
  "jupytext": {
   "cell_metadata_filter": "name,tags,-all",
   "main_language": "R",
   "notebook_metadata_filter": "-all"
  }
 },
 "nbformat": 4,
 "nbformat_minor": 5
}
