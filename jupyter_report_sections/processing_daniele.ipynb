{
 "cells": [
  {
   "cell_type": "code",
   "execution_count": null,
   "id": "fe873583",
   "metadata": {
    "vscode": {
     "languageId": "r"
    }
   },
   "outputs": [],
   "source": [
    "---\n",
    "output:\n",
    "  pdf_document: default\n",
    "  html_document: default\n",
    "---"
   ]
  },
  {
   "cell_type": "code",
   "execution_count": 1,
   "id": "ff8dc4a0",
   "metadata": {
    "name": "setup",
    "tags": [
     "remove_cell"
    ],
    "vscode": {
     "languageId": "r"
    }
   },
   "outputs": [],
   "source": [
    "knitr::opts_chunk$set(echo = TRUE)"
   ]
  },
  {
   "cell_type": "markdown",
   "id": "21dc9451",
   "metadata": {},
   "source": [
    "## Processing"
   ]
  },
  {
   "cell_type": "code",
   "execution_count": 5,
   "id": "b2154cd0",
   "metadata": {
    "name": "processing",
    "tags": [
     "remove_input"
    ],
    "vscode": {
     "languageId": "r"
    }
   },
   "outputs": [],
   "source": [
    "library(imager)\n",
    "library(dplyr)\n",
    "\n",
    "data_black <- data.frame(\"banana\" = seq_len(36),\n",
    "                   \"trt\" = rep(c(\"C\", \"A\", \"T\"), each = 12))\n",
    "data_yellow <- data.frame(\"banana\" = seq_len(36),\n",
    "                   \"trt\" = rep(c(\"C\", \"A\", \"T\"), each = 12))\n",
    "data_avg_r <- data.frame(\"banana\" = seq_len(36),\n",
    "                         \"trt\" = rep(c(\"C\", \"A\", \"T\"), each = 12))\n",
    "\n",
    "for (j in 1:5) {\n",
    "  proportion_black = c()\n",
    "  proportion_yellow = c()\n",
    "  avg_r = c()\n",
    "  for (i in 1:36) {\n",
    "    # Take the pictures from the folder containing the banana's pics\n",
    "    banana = load.image(paste(\"../\", \"Day_\", j, \"/\",i,\".jpg\",sep = \"\"))\n",
    "    \n",
    "    #plot(banana)\n",
    "    #class(banana)\n",
    "    #dim(banana)\n",
    "    \n",
    "    # Transform the bananapic in a data frame\n",
    "    bdf_1 = as.data.frame(banana)\n",
    "    \n",
    "    # divide by 3 because there are 3 channels, each of them are repeated (RGB)\n",
    "    total_area = dim(bdf_1)[1]/3\n",
    "    white_area = dim(filter(bdf_1, value == 1))[1]/3\n",
    "    banana_area = total_area - white_area\n",
    "    \n",
    "    # Transform the bananapic in a greyscale\n",
    "    # sqrt because it helps dividing the black spots from the white.\n",
    "    gbanana = sqrt(grayscale((banana)))\n",
    "    #plot(gbanana)\n",
    "    \n",
    "    bdf_2 = as.data.frame(gbanana)\n",
    "    # Select the most black spots\n",
    "    black_spots = which(bdf_2$value<0.5)\n",
    "    # Set to white all the other spots (only if you what to see the next plot\n",
    "    #bdf_2[-black_spots,3]= 1\n",
    "    \n",
    "    black_area = length(black_spots)\n",
    "    yellow_area = banana_area - length(black_spots)\n",
    "    \n",
    "    #as.cimg(bdf_2, dims = dim(gbanana)) %>% plot\n",
    "    #aggregate(bdf, list(channel = bdf$cc),FUN = mean)\n",
    "    \n",
    "    proportion_black = c(proportion_black, black_area/banana_area)\n",
    "    proportion_yellow = c(proportion_yellow, yellow_area/banana_area)\n",
    "    \n",
    "    # average of the R channel, excluding white area and black spots\n",
    "    avg_r_channel <- mean(\n",
    "      filter(bdf_1[bdf_1$cc == 1, ][bdf_2$value < 0.5, ], value < 1)$value)\n",
    "    \n",
    "    avg_r <- c(avg_r, avg_r_channel)\n",
    "  }\n",
    "  data_black <- cbind(data_black, proportion_black)\n",
    "  data_yellow <- cbind(data_yellow, proportion_yellow)\n",
    "  data_avg_r <- cbind(data_avg_r, avg_r)\n",
    "}\n",
    "\n",
    "colnames(data_black) <- c(\"banana\", \"trt\", paste0(\"pct_brown_day_\", seq(1, 5)))\n",
    "colnames(data_yellow) <- c(\"banana\", \"trt\", paste0(\"pct_yellow_day_\", seq(1, 5)))\n",
    "colnames(data_avg_r) <- c(\"banana\", \"trt\", paste0(\"avg_rgb_day_\", seq(1, 5)))\n",
    "\n",
    "\n",
    "write.csv(data_black, \"../processed_results/aggregated_measurements_black.csv\", row.names = FALSE)\n",
    "write.csv(data_yellow, \"../processed_results/aggregated_measurements_yellow.csv\", row.names = FALSE)\n",
    "write.csv(data_avg_r, \"../processed_results/aggregated_measurements_rgb.csv\", row.names = FALSE)"
   ]
  },
  {
   "cell_type": "markdown",
   "id": "09570d02",
   "metadata": {},
   "source": [
    "In this section we process the data in the following way:\n",
    "\n",
    "1. Collect all the bananas' pics for all the 5 day.\n",
    "\n",
    "2. For each banana pic, make a selection, i.e. select the banana only and put it in a completely white background. This helps in having pixels not corresponding to a banana location be equal to $(255,255,255)$.\n",
    "\n",
    "3. Read each banana pic from previous step in R and: count the number of non-white pixels, i.e. the pixels corresponding to the banana.\n",
    "\n",
    "4. Transform the pic into \"greyscale\" in order to have a unique channel and being able to select the brown spots with a uniform measure. Count the number of pixels with values less than $0.5$ (recall that in R the maximum RGB value is $1$ instead of $255$) and divide this number by the number of non-white pixels in step 2. The result is the proportion of black spots in the banana. Then $1$ minus this proportion is the proportion of yellow (non-brown) spots. Take also the average of the red channel values corresponding to the non-brown spots.\n",
    "\n",
    "5. Collect the data for the proportion of brown spots, yellow spots and the average of red spots for each banana and output a csv file. For each banana we also add a variable that specify the treatment: $C$ for control, $A$ for apple and $T$ for tomato."
   ]
  }
 ],
 "metadata": {
  "jupytext": {
   "cell_metadata_filter": "tags,name,-all",
   "main_language": "R",
   "notebook_metadata_filter": "-all"
  },
  "kernelspec": {
   "display_name": "R",
   "language": "R",
   "name": "ir"
  },
  "language_info": {
   "codemirror_mode": "r",
   "file_extension": ".r",
   "mimetype": "text/x-r-source",
   "name": "R",
   "pygments_lexer": "r",
   "version": "4.2.2"
  },
  "vscode": {
   "interpreter": {
    "hash": "30295c5bec572e859485b1ffa5e89b8b3e2022ef6e3e739c1ac40f143a557caf"
   }
  }
 },
 "nbformat": 4,
 "nbformat_minor": 5
}
