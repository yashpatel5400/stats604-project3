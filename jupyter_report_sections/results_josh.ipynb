{
 "cells": [
  {
   "cell_type": "code",
   "execution_count": 1,
   "id": "aea3dc26",
   "metadata": {
    "name": "setup",
    "tags": [
     "remove_cell"
    ],
    "vscode": {
     "languageId": "r"
    }
   },
   "outputs": [],
   "source": [
    "knitr::opts_chunk$set(echo = TRUE)"
   ]
  },
  {
   "cell_type": "code",
   "execution_count": 2,
   "id": "5683041a",
   "metadata": {
    "eval": true,
    "message": false,
    "name": "plot_setup",
    "tags": [
     "remove_input"
    ],
    "vscode": {
     "languageId": "r"
    }
   },
   "outputs": [
    {
     "name": "stderr",
     "output_type": "stream",
     "text": [
      "\n",
      "Attaching package: ‘dplyr’\n",
      "\n",
      "\n",
      "The following objects are masked from ‘package:stats’:\n",
      "\n",
      "    filter, lag\n",
      "\n",
      "\n",
      "The following objects are masked from ‘package:base’:\n",
      "\n",
      "    intersect, setdiff, setequal, union\n",
      "\n",
      "\n"
     ]
    }
   ],
   "source": [
    "library(grDevices)\n",
    "library(dplyr)\n",
    "library(tidyr)\n",
    "library(ggplot2)\n",
    "setwd(\"../\")\n",
    "permutations <- read.csv(\"permutations.csv\", row.names = NULL)\n",
    "permutations_tomato <- read.csv(\"permutations_tomato.csv\", row.names = NULL)\n",
    "permutations_apple <- read.csv(\"permutations_apple.csv\", row.names = NULL)\n",
    "data_black <- read.csv(\"processed_results/aggregated_measurements_black.csv\", row.names = NULL)\n",
    "data_yellow <- read.csv(\"processed_results/aggregated_measurements_yellow.csv\", row.names = NULL)\n",
    "data_avg_r <- read.csv(\"processed_results/aggregated_measurements_rgb.csv\", row.names = NULL)\n",
    "squish <- read.csv(\"processed_results/squish.csv\", row.names = NULL)\n",
    "squish$banana <- gsub(\"banana_\", \"\", squish$X)\n",
    "squish$pct_squished <- squish$squish\n",
    "measurements <- merge(data_avg_r,\n",
    "                      merge(data_black, data_yellow, by = c(\"banana\", \"trt\")),\n",
    "                      by = c(\"banana\", \"trt\"))\n",
    "measurements <- merge(measurements, squish[, c(\"banana\", \"pct_squished\")])\n",
    "measurements$avg_rgb <- measurements$avg_rgb_day_5 - measurements$avg_rgb_day_1\n",
    "measurements$pct_brown <- measurements$pct_brown_day_5 - measurements$pct_brown_day_1\n",
    "\n",
    "GREEN <- \"#12b30c\"\n",
    "BROWN <- \"#4a4d09\"\n",
    "YELLOW <- \"#f2db2c\"\n",
    "PVAL_BLUE <- \"#0726f0\"\n",
    "n_bananas <- 36\n",
    "title_size <- 16\n",
    "text_size <- 14\n",
    "plot_theme <- theme(panel.background = element_blank(),\n",
    "                    axis.text = element_text(size = text_size),\n",
    "                    axis.title = element_text(size = title_size),\n",
    "                    legend.text = element_text(size = text_size),\n",
    "                    legend.title = element_text(size = title_size),\n",
    "                    strip.text = element_text(size = text_size))\n",
    "\n",
    "stat_cols <- colnames(permutations)[!grepl(\"(banana|permutation)\", colnames(permutations))]\n",
    "true_test_statistics <- mapply(\n",
    "  function(stat) {\n",
    "    if (grepl(\"apple$\", stat)) {\n",
    "      trt <- \"A\"\n",
    "      stat <- gsub(\"_apple\", \"\", stat)\n",
    "    } else if (grepl(\"tomato$\", stat)) {\n",
    "      trt <- \"T\"\n",
    "      stat <- gsub(\"_tomato\", \"\", stat)\n",
    "    } else {\n",
    "      stop(\"Did not encounter a valid treatment level\")\n",
    "    }\n",
    "    mean(measurements[measurements$trt == trt, stat]) - mean(measurements[measurements$trt == \"C\", stat])\n",
    "  },\n",
    "  stat_cols,\n",
    "  USE.NAMES = TRUE\n",
    ")"
   ]
  },
  {
   "cell_type": "markdown",
   "id": "22c3f38f",
   "metadata": {},
   "source": [
    "### Results\n",
    "No permutation test yielded a significant p-value. The two smallest p-values\n",
    "came from the tests for the squish ratio test statistic: the permutation test of\n",
    "the bananas in the control environment and the bananas stored with apples returned a\n",
    "p-value of 0.24, and the permutation test of the control bananas and the bananas\n",
    "stored with tomatoes returned a p-value of 0.27. Using the percentage of brown\n",
    "spots test statistic, the test of the tomato treatment yielded a p-value of .382,\n",
    "and the test of the apple treatment yielded an even larger p-value of .906. The tests\n",
    "using average red channel test statistic produced the highest p-value on average\n",
    "across the tests of the two treatments: the test of the tomato treatment yielded\n",
    "a p-value of 0.81, and the test of the apple treatment yielded a p-value of 0.98.\n",
    "\n",
    "Despite the overwhelmingly large p-values, visualizations of the permutation\n",
    "distributions for the average red channel tests may reveal useful information about\n",
    "the experimental design. The histograms below showing the\n",
    "results from these permutation tests display the distribution of test statistics from\n",
    "all permutations in brown, then in different shades of yellow and green,\n",
    "the distribution of test statistics from permutations where each banana was\n",
    "labeled as a treatment banana. For the test of the tomato treatment, each of these\n",
    "\"banana-specific\" permutation distributions looks to have the same general shape as\n",
    "the overall permutation distribution. For the test of the apple treatment, however,\n",
    "there appears to be one \"banana-specific\" distribution whose shape differs somewhat\n",
    "notably from the distribution of all the permutations, which is made clearer in\n",
    "the histogram below."
   ]
  },
  {
   "cell_type": "code",
   "execution_count": 3,
   "id": "4302e2f8",
   "metadata": {
    "message": false,
    "name": "plots_4a_4b",
    "tags": [
     "remove_input"
    ],
    "vscode": {
     "languageId": "r"
    }
   },
   "outputs": [],
   "source": [
    "make_all_bananas_comparison_plot <- function(perms, stat) {\n",
    "  if (grepl(\"tomato$\", stat)) {\n",
    "    trt <- \"T\"\n",
    "    clean_trt <- \"Tomato\"\n",
    "  } else if (grepl(\"apple$\", stat)) {\n",
    "    trt <- \"A\"\n",
    "    clean_trt <- \"Apple\"\n",
    "  } else {\n",
    "    trt <- \"C\"\n",
    "    clean_trt <- \"Control\"\n",
    "  }\n",
    "  clean_stat <- gsub(\n",
    "    \"% squished\", \"Squish Ratio\",\n",
    "      gsub(\n",
    "        \"pct\", \"%\", gsub(\n",
    "          \"avg\", \"Average\", gsub(\n",
    "            \"rgb\", \"Red Channel\", gsub(\" (tomato|apple)$\", \"\", gsub(\"_\", \" \", stat))))))\n",
    "  \n",
    "  banana_cols <- colnames(perms)[grepl(\"banana\", colnames(perms))]\n",
    "  pivot_data <- Reduce(\n",
    "    rbind,\n",
    "    lapply(banana_cols, \n",
    "          function(banana_col) {\n",
    "            msk <- perms[banana_col] == trt\n",
    "            banana_perms <- perms[msk,\n",
    "                                  c(banana_col, colnames(perms)\n",
    "                                    [!grepl(\"banana\", colnames(perms))])]\n",
    "            colnames(banana_perms)[1] <- \"trt\"\n",
    "            cbind(\"Banana\" = as.numeric(gsub(\"banana_\", \"\", banana_col)),\n",
    "                  banana_perms)\n",
    "          })\n",
    "  )\n",
    "  pivot_data$Banana <- factor(pivot_data$Banana,\n",
    "                              levels = as.numeric(gsub(\"banana_\", \"\", banana_cols)))\n",
    "\n",
    "  # running one-sided tests because trt should increase avg RGB and pct brown\n",
    "  pval <- mean(perms[[stat]] >= true_test_statistics[stat])\n",
    "  if (grepl(\"pct_brown\", stat)) {\n",
    "    pval_label_x_val <- true_test_statistics[stat] + sign(true_test_statistics[stat]) * 0.002\n",
    "    cut_val <- 0.00025\n",
    "  } else if (grepl(\"avg_rgb\", stat)) {\n",
    "    pval_label_x_val <- true_test_statistics[stat] + sign(true_test_statistics[stat]) * 0.01\n",
    "    cut_val <- 0.0025\n",
    "  } else {\n",
    "    pval_label_x_val <- true_test_statistics[stat] + sign(true_test_statistics[stat]) * 0.1\n",
    "    cut_val <- 0.025\n",
    "  }\n",
    "  \n",
    "  pval_label_y_val <- max(table(cut_width(perms[[stat]], width = cut_val)))\n",
    "  ggplot(perms) +\n",
    "    geom_histogram(aes(x = !!sym(stat)), fill = BROWN, bins=30) +\n",
    "    geom_histogram(data = pivot_data,\n",
    "                   aes(x = !!sym(stat), fill = Banana),\n",
    "                   position = \"identity\", bins=30) +\n",
    "    geom_vline(aes(xintercept=true_test_statistics[stat]), color = PVAL_BLUE,\n",
    "               linetype=\"dashed\") +\n",
    "    scale_fill_manual(\n",
    "      values = scales::seq_gradient_pal(YELLOW, GREEN)(seq(0, 1, length.out=n_bananas))) +\n",
    "    labs(x = paste0(clean_stat,\" Test Statistic\"),\n",
    "         y = \"N Permutations\") +\n",
    "    annotate(\"label\", x = pval_label_x_val, y = pval_label_y_val,\n",
    "             label = paste0(\"P-value: \", round(pval, 3)),\n",
    "             color = PVAL_BLUE, size = 5) +\n",
    "    plot_theme\n",
    "}\n",
    "for (r in seq_len(2)) {\n",
    "  stat_col <- stat_cols[r]\n",
    "  if (grepl(\"apple\", stat_col)) {\n",
    "    print(make_all_bananas_comparison_plot(permutations_apple, stat_col))\n",
    "  } else if (grepl(\"tomato\", stat_col)) {\n",
    "    print(make_all_bananas_comparison_plot(permutations_tomato, stat_col))\n",
    "  } else {\n",
    "    stop(\"Did not encounter a valid stat col\")\n",
    "  }\n",
    "}"
   ]
  },
  {
   "cell_type": "markdown",
   "id": "cc6def9c",
   "metadata": {},
   "source": [
    "This banana had a change in average red channel between days 1 and 5 of -0.02,\n",
    "by far the lowest of all the bananas and theoretically impossible under the\n",
    "monotonicity assumption underlying our decision to use average red channel as a\n",
    "test statistic. This forces us to look more closely at few things, the first being\n",
    "whether our method of calculating average red channel needs to be improved. Do\n",
    "we need to adjust our method of calibrating the amount of light in each photo? Should\n",
    "we normalize the red channel of each pixel in a photo before taking the average of\n",
    "the pixels displaying the banana? Would these be possible, they should reduce the\n",
    "possibility of returning a negative value for this measurement. Even if the\n",
    "possibility of returning a negative value were completely removed though, this result\n",
    "also makes us consider whether a difference-in-means test statistic is appropriate\n",
    "for this measurement. Based on the measurements obtained in this experiment, a few\n",
    "bananas lagged behind noticeably in change in average red channel, which could be\n",
    "due to measurement error, or they might have been outliers. Were their lag not\n",
    "to be due to measurement error, it may be more appropriate to use an\n",
    "outlier-robust test statistic such as the difference-in-medians in future tests\n",
    "of the average red channel measurement."
   ]
  },
  {
   "cell_type": "code",
   "execution_count": null,
   "id": "5a88912a",
   "metadata": {
    "message": false,
    "name": "plot7",
    "tags": [
     "remove_input"
    ],
    "vscode": {
     "languageId": "r"
    }
   },
   "outputs": [
    {
     "name": "stderr",
     "output_type": "stream",
     "text": [
      "\u001b[1m\u001b[22m`stat_bin()` using `bins = 30`. Pick better value with `binwidth`.\n",
      "\u001b[1m\u001b[22m`stat_bin()` using `bins = 30`. Pick better value with `binwidth`.\n"
     ]
    },
    {
     "data": {
      "image/png": "[encoded data removed]",
      "text/plain": [
       "plot without title"
      ]
     },
     "metadata": {
      "image/png": {
       "height": 420,
       "width": 420
      }
     },
     "output_type": "display_data"
    }
   ],
   "source": [
    "make_banana_specific_comparison_plot <- function(perms, banana, stat) {\n",
    "  banana_col <- paste0(\"banana_\", banana)\n",
    "  if (grepl(\"tomato$\", stat)) {\n",
    "    trt <- \"T\"\n",
    "    clean_trt <- \"Tomato\"\n",
    "  } else if (grepl(\"apple$\", stat)) {\n",
    "    trt <- \"A\"\n",
    "    clean_trt <- \"Apple\"\n",
    "  } else {\n",
    "    trt <- \"C\"\n",
    "    clean_trt <- \"Control\"\n",
    "  }\n",
    "  clean_stat <- gsub(\n",
    "    \"% squished\", \"Squish Ratio\",\n",
    "       gsub(\n",
    "         \"pct\", \"%\", gsub(\n",
    "           \"avg\", \"Average\", gsub(\n",
    "             \"rgb\", \"Red Channel\", gsub(\" (tomato|apple)$\", \"\", gsub(\"_\", \" \", stat))))))\n",
    "\n",
    "  ctrl_data <- data.frame(\n",
    "    \"trt\" = perms[[banana_col]][perms[banana_col] == \"C\"],\n",
    "    \"perm_val\" = perms[[stat]][perms[banana_col] == \"C\"]\n",
    "  )\n",
    "  trt_data <- data.frame(\n",
    "    \"trt\" = perms[[banana_col]][perms[banana_col] == trt],\n",
    "    \"perm_val\" = perms[[stat]][perms[banana_col] == trt]\n",
    "  )\n",
    "  legend_x_val <- min(quantile(ctrl_data[[\"perm_val\"]], 0.03),\n",
    "                      quantile(trt_data[[\"perm_val\"]], 0.03))\n",
    "  if (grepl(\"pct_brown\", stat)) {\n",
    "    cut_val <- 0.00025\n",
    "  } else if (grepl(\"avg_rgb\", stat)) {\n",
    "    cut_val <- 0.0015\n",
    "  } else {\n",
    "    cut_val <- 0.025\n",
    "  }\n",
    "  \n",
    "  legend_y_val_banana <- max(table(cut_width(ctrl_data[[\"perm_val\"]], width = cut_val)))\n",
    "  legend_y_val_all <- max(table(cut_width(trt_data[[\"perm_val\"]], width = cut_val))) - 400\n",
    "  fill_col <- scales::seq_gradient_pal(YELLOW, GREEN)(seq(0, 1, length.out=n_bananas))[banana]\n",
    "  \n",
    "  ggplot(ctrl_data) +\n",
    "    geom_histogram(data = trt_data,\n",
    "                   aes(x = perm_val), fill = fill_col, color = fill_col, bins=30) +\n",
    "    geom_histogram(aes(x = perm_val), fill = BROWN, color = BROWN, bins=30) +\n",
    "    annotate(\"label\", x = legend_x_val, y = legend_y_val_banana,\n",
    "             label = paste0(\"Banana \", banana, \" Does Not Have\\nControl Label Distribution\"),\n",
    "             color = fill_col, size = 6) +\n",
    "    annotate(\"label\", x = legend_x_val, y = legend_y_val_all,\n",
    "             label = paste0(\"Banana \", banana, \" Has Control\\nLabel Distribution\"),\n",
    "             color = BROWN, size = 6) +\n",
    "    labs(x = paste0(clean_stat,\" Test Statistic\"),\n",
    "         y = \"N Permutations\") +\n",
    "    plot_theme\n",
    "}\n",
    "\n",
    "make_banana_specific_comparison_plot(permutations_apple, 19, \"avg_rgb_apple\")"
   ]
  }
 ],
 "metadata": {
  "jupytext": {
   "cell_metadata_filter": "tags,eval,name,message,-all",
   "main_language": "R",
   "notebook_metadata_filter": "-all"
  },
  "kernelspec": {
   "display_name": "R",
   "language": "R",
   "name": "ir"
  },
  "language_info": {
   "codemirror_mode": "r",
   "file_extension": ".r",
   "mimetype": "text/x-r-source",
   "name": "R",
   "pygments_lexer": "r",
   "version": "4.2.2"
  },
  "vscode": {
   "interpreter": {
    "hash": "767d51c1340bd893661ea55ea3124f6de3c7a262a8b4abca0554b478b1e2ff90"
   }
  }
 },
 "nbformat": 4,
 "nbformat_minor": 5
}
